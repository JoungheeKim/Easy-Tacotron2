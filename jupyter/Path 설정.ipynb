{
 "cells": [
  {
   "cell_type": "code",
   "execution_count": 1,
   "id": "d8ebea0e",
   "metadata": {},
   "outputs": [],
   "source": [
    "import os\n",
    "import glob\n",
    "from sklearn.model_selection import train_test_split\n",
    "from pathlib import Path"
   ]
  },
  {
   "cell_type": "code",
   "execution_count": 2,
   "id": "8a515bd7",
   "metadata": {},
   "outputs": [
    {
     "data": {
      "text/plain": [
       "'/code/gitRepo/data/kss/a'"
      ]
     },
     "execution_count": 2,
     "metadata": {},
     "output_type": "execute_result"
    }
   ],
   "source": [
    "os.path.abspath('a')"
   ]
  },
  {
   "cell_type": "code",
   "execution_count": 3,
   "id": "8210485d",
   "metadata": {},
   "outputs": [
    {
     "data": {
      "text/plain": [
       "'1_000'"
      ]
     },
     "execution_count": 3,
     "metadata": {},
     "output_type": "execute_result"
    }
   ],
   "source": [
    "Path('1/1_000.txt').stem"
   ]
  },
  {
   "cell_type": "code",
   "execution_count": 4,
   "id": "3566fa6a",
   "metadata": {},
   "outputs": [
    {
     "data": {
      "text/plain": [
       "['4',\n",
       " 'Untitled.ipynb',\n",
       " 'dev.txt',\n",
       " 'train.txt',\n",
       " '.ipynb_checkpoints',\n",
       " 'transcript.v.1.4.txt',\n",
       " '3',\n",
       " '2',\n",
       " 'dev_wav2vec.txt',\n",
       " 'train_wav2vec.txt',\n",
       " 'Path 설정.ipynb',\n",
       " '1']"
      ]
     },
     "execution_count": 4,
     "metadata": {},
     "output_type": "execute_result"
    }
   ],
   "source": [
    "os.listdir()"
   ]
  },
  {
   "cell_type": "code",
   "execution_count": 5,
   "id": "09af0bb4",
   "metadata": {},
   "outputs": [],
   "source": [
    "with open('transcript.v.1.4.txt', 'r') as f:\n",
    "    script = f.readlines()"
   ]
  },
  {
   "cell_type": "code",
   "execution_count": 6,
   "id": "b667880a",
   "metadata": {},
   "outputs": [],
   "source": [
    "def split_str(temp_str):\n",
    "    items = temp_str.split('|')\n",
    "    return [os.path.abspath(items[0]), items[2]]"
   ]
  },
  {
   "cell_type": "code",
   "execution_count": 7,
   "id": "f842ddce",
   "metadata": {},
   "outputs": [],
   "source": [
    "def getname(temp_str):\n",
    "    items = temp_str.split('|')\n",
    "    return [os.path.abspath(items[0]), os.path.join('/code/gitRepo/non_attentive_taco/textgrid_wav2vec_ver2', \"{}.TextGrid\".format(Path(items[0]).stem))]"
   ]
  },
  {
   "cell_type": "code",
   "execution_count": 8,
   "id": "561b95bd",
   "metadata": {},
   "outputs": [
    {
     "data": {
      "text/plain": [
       "'/code/gitRepo/data/kss/1/1_0000.wav|그는 괜찮은 척하려고 애쓰는 것 같았다.'"
      ]
     },
     "execution_count": 8,
     "metadata": {},
     "output_type": "execute_result"
    }
   ],
   "source": [
    "\"|\".join(split_str(script[0]))"
   ]
  },
  {
   "cell_type": "code",
   "execution_count": 9,
   "id": "9cd7a6dc",
   "metadata": {},
   "outputs": [],
   "source": [
    "train_script, val_script = train_test_split(script, test_size=10)"
   ]
  },
  {
   "cell_type": "code",
   "execution_count": 10,
   "id": "265b0c41",
   "metadata": {},
   "outputs": [],
   "source": [
    "with open('train_wav2vec2.txt', 'w') as write_f:\n",
    "    for train_item in train_script:\n",
    "        print(\"|\".join(getname(train_item)), file=write_f)\n",
    "with open('dev_wav2vec2.txt', 'w') as write_f:\n",
    "    for dev_item in val_script:\n",
    "        print(\"|\".join(getname(dev_item)), file=write_f)\n"
   ]
  },
  {
   "cell_type": "code",
   "execution_count": 11,
   "id": "4cbfa483",
   "metadata": {},
   "outputs": [],
   "source": [
    "import torch"
   ]
  },
  {
   "cell_type": "code",
   "execution_count": 12,
   "id": "5157ada7",
   "metadata": {},
   "outputs": [],
   "source": [
    "a = torch.randn(1, 10)"
   ]
  },
  {
   "cell_type": "code",
   "execution_count": 13,
   "id": "bb2d159f",
   "metadata": {},
   "outputs": [],
   "source": [
    "a.requires_grad = True"
   ]
  },
  {
   "cell_type": "code",
   "execution_count": 15,
   "id": "7c7857e8",
   "metadata": {},
   "outputs": [
    {
     "data": {
      "text/plain": [
       "True"
      ]
     },
     "execution_count": 15,
     "metadata": {},
     "output_type": "execute_result"
    }
   ],
   "source": [
    "a.requires_grad"
   ]
  },
  {
   "cell_type": "code",
   "execution_count": 16,
   "id": "0de2a730",
   "metadata": {},
   "outputs": [],
   "source": [
    "b = a.detach().cpu()"
   ]
  },
  {
   "cell_type": "code",
   "execution_count": 17,
   "id": "f7419469",
   "metadata": {},
   "outputs": [
    {
     "data": {
      "text/plain": [
       "False"
      ]
     },
     "execution_count": 17,
     "metadata": {},
     "output_type": "execute_result"
    }
   ],
   "source": [
    "b.requires_grad"
   ]
  }
 ],
 "metadata": {
  "kernelspec": {
   "display_name": "Python 3",
   "language": "python",
   "name": "python3"
  },
  "language_info": {
   "codemirror_mode": {
    "name": "ipython",
    "version": 3
   },
   "file_extension": ".py",
   "mimetype": "text/x-python",
   "name": "python",
   "nbconvert_exporter": "python",
   "pygments_lexer": "ipython3",
   "version": "3.6.9"
  }
 },
 "nbformat": 4,
 "nbformat_minor": 5
}
