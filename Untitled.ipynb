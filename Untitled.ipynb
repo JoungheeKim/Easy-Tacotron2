{
 "cells": [
  {
   "cell_type": "code",
   "execution_count": 13,
   "id": "9ca70adc",
   "metadata": {},
   "outputs": [],
   "source": [
    "from scipy.io.wavfile import read\n",
    "import librosa"
   ]
  },
  {
   "cell_type": "code",
   "execution_count": 1,
   "id": "13c5932e",
   "metadata": {},
   "outputs": [
    {
     "name": "stderr",
     "output_type": "stream",
     "text": [
      "[nltk_data] Downloading package punkt to /home/jh/nltk_data...\n",
      "[nltk_data]   Unzipping tokenizers/punkt.zip.\n"
     ]
    },
    {
     "data": {
      "text/plain": [
       "True"
      ]
     },
     "execution_count": 1,
     "metadata": {},
     "output_type": "execute_result"
    }
   ],
   "source": [
    "import nltk\n",
    "nltk.download('punkt')"
   ]
  },
  {
   "cell_type": "code",
   "execution_count": 14,
   "id": "25fa020c",
   "metadata": {},
   "outputs": [],
   "source": [
    "audio_path = '/code/gitRepo/data/personal_wavs/jh/Recording_1.wav'\n",
    "audio_path = '/code/gitRepo/data/kss/2/2_0603.wav'"
   ]
  },
  {
   "cell_type": "code",
   "execution_count": 10,
   "id": "3773b389",
   "metadata": {},
   "outputs": [],
   "source": [
    "sampling_rate, data = read(audio_path)"
   ]
  },
  {
   "cell_type": "code",
   "execution_count": 11,
   "id": "2257296a",
   "metadata": {},
   "outputs": [
    {
     "data": {
      "text/plain": [
       "22050"
      ]
     },
     "execution_count": 11,
     "metadata": {},
     "output_type": "execute_result"
    }
   ],
   "source": [
    "sampling_rate"
   ]
  },
  {
   "cell_type": "code",
   "execution_count": 18,
   "id": "d2d81c5f",
   "metadata": {},
   "outputs": [],
   "source": [
    "y, sr = librosa.load(audio_path, sr = None, mono=True)"
   ]
  },
  {
   "cell_type": "code",
   "execution_count": 19,
   "id": "17313b1b",
   "metadata": {},
   "outputs": [
    {
     "data": {
      "text/plain": [
       "44100"
      ]
     },
     "execution_count": 19,
     "metadata": {},
     "output_type": "execute_result"
    }
   ],
   "source": [
    "sr"
   ]
  },
  {
   "cell_type": "code",
   "execution_count": null,
   "id": "0687627f",
   "metadata": {},
   "outputs": [],
   "source": []
  },
  {
   "cell_type": "code",
   "execution_count": 21,
   "id": "bd34bb81",
   "metadata": {},
   "outputs": [],
   "source": [
    "## 라이브러리 Import\n",
    "import numpy as np\n",
    "import os\n",
    "from tqdm.notebook import tqdm\n",
    "import librosa\n",
    "from pathlib import Path\n",
    "import matplotlib.pyplot as plt\n",
    "import IPython.display as ipd\n",
    "import glob\n",
    "import soundfile as sf\n",
    "\n",
    "## 함수 설정\n",
    "\n",
    "## 파일 읽어오기(지정한 Sampling Rate로)\n",
    "def load_audio(file_path, sr=22050):\n",
    "    \"\"\"\n",
    "       file_path : 파일위치\n",
    "       sr : 오디오를 읽을 때 Sampling rate 지정\n",
    "    \"\"\"\n",
    "    ## 확장자 추출\n",
    "    ext = Path(file_path).suffix\n",
    "    \n",
    "    ## 파일 읽기\n",
    "    if ext in ['.wav', '.flac']:\n",
    "        wav, sr = librosa.load(file_path, sr=sr)\n",
    "    elif ext == '.pcm':\n",
    "        wav = np.memmap(file_path, dtype='h', mode='r').astype('float32') / 32767\n",
    "    elif ext in ['.raw', '.RAW']:\n",
    "        wav, sr = sf.read(file_path, channels=1, samlerate=sr, format='RAW', subtype='PCM_16')\n",
    "    else:\n",
    "        raise ValueError(\"Unsupported preprocess method : {0}\".format(ext))\n",
    "        \n",
    "    return wav, sr\n",
    "\n",
    "## 공백 자르기(패딩 추가)\n",
    "def trim_audio(wav, top_db=10, pad_len=4000):\n",
    "    \"\"\"\n",
    "    \n",
    "    \"\"\"\n",
    "    ## 최대 db에 따라 음성의 자를 위치 판별\n",
    "    non_silence_indices = librosa.effects.split(wav, top_db=top_db)\n",
    "    start = non_silence_indices[0][0]\n",
    "    end = non_silence_indices[-1][1]\n",
    "    \n",
    "    ## 음성 자르기\n",
    "    wav = wav[start:end]\n",
    "    \n",
    "    ## padding 추가\n",
    "    wav = np.hstack([np.zeros(pad_len), wav, np.zeros(pad_len)])\n",
    "    \n",
    "    return wav\n",
    "\n",
    "## WAV 그려보기\n",
    "def plot_wav(wav, sr):\n",
    "    ## 그려보기\n",
    "    plt.figure(1)\n",
    "\n",
    "    plot_a = plt.subplot(211)\n",
    "    plot_a.plot(wav)\n",
    "    plot_a.set_xlabel('sample rate * time')\n",
    "    plot_a.set_ylabel('energy')\n",
    "\n",
    "    plot_b = plt.subplot(212)\n",
    "    plot_b.specgram(wav, NFFT=1024, Fs=sr, noverlap=900)\n",
    "    plot_b.set_xlabel('Time')\n",
    "    plot_b.set_ylabel('Frequency')\n",
    "\n",
    "    plt.show()\n",
    "\n",
    "\n"
   ]
  },
  {
   "cell_type": "code",
   "execution_count": null,
   "id": "b8c70353",
   "metadata": {},
   "outputs": [],
   "source": [
    "root_path = "
   ]
  },
  {
   "cell_type": "code",
   "execution_count": null,
   "id": "cf1a3c1a",
   "metadata": {},
   "outputs": [],
   "source": [
    "## 시작하기\n",
    "\n",
    "## 타코트론2는 기본적으로 22050 sampling rate에서 동작\n",
    "sampling_rate = 22050\n",
    "## 개인설정에 따라 특정 소리보다 작은 음성을 삭제하도록 설정\n",
    "decibel=10\n",
    "\n",
    "## Wav 파일 읽어오기  pcm 또는 다른 확장자도 사용 가능.\n",
    "root_path = '잡음제거'\n",
    "file_list = glob.glob(os.path.join(root_path, \"*.wav\"))\n",
    "#file_list = glob.glob(os.path.join(root_path, \"*.pcm\"))\n",
    "\n",
    "## 저장할 위치 선택\n",
    "save_path = 'temp'\n",
    "os.makedirs(save_path, exist_ok=True)\n",
    "\n",
    "for file_path in tqdm(file_list):\n",
    "    \n",
    "    ## 파일 불러오기(타코트론2는 기본적으로 22050 sampling rate에서 동작)\n",
    "    wav, sr = load_audio(file_path, sr=sampling_rate)\n",
    "    \n",
    "    ## 오디오 자르기(패딩 추가)\n",
    "    trimed_wav= trim_audio(wav, top_db=decibel)\n",
    "    \n",
    "    filename=Path(file_path).name\n",
    "    temp_save_path = os.path.join(save_path, filename)\n",
    "    \n",
    "    ## 저장하기\n",
    "    sf.write(temp_save_path, trimed_wav, sampling_rate)"
   ]
  },
  {
   "cell_type": "code",
   "execution_count": null,
   "id": "e6ffad75",
   "metadata": {},
   "outputs": [],
   "source": []
  },
  {
   "cell_type": "code",
   "execution_count": null,
   "id": "aa978d6f",
   "metadata": {},
   "outputs": [],
   "source": []
  },
  {
   "cell_type": "code",
   "execution_count": null,
   "id": "ca41eac7",
   "metadata": {},
   "outputs": [],
   "source": []
  },
  {
   "cell_type": "code",
   "execution_count": null,
   "id": "1a48e7a6",
   "metadata": {},
   "outputs": [],
   "source": []
  },
  {
   "cell_type": "code",
   "execution_count": null,
   "id": "181f0e65",
   "metadata": {},
   "outputs": [],
   "source": []
  },
  {
   "cell_type": "code",
   "execution_count": null,
   "id": "2a23d053",
   "metadata": {},
   "outputs": [],
   "source": []
  },
  {
   "cell_type": "code",
   "execution_count": null,
   "id": "b5c18190",
   "metadata": {},
   "outputs": [],
   "source": []
  },
  {
   "cell_type": "code",
   "execution_count": null,
   "id": "6616e92d",
   "metadata": {},
   "outputs": [],
   "source": []
  },
  {
   "cell_type": "code",
   "execution_count": null,
   "id": "52203856",
   "metadata": {},
   "outputs": [],
   "source": []
  }
 ],
 "metadata": {
  "kernelspec": {
   "display_name": "Python 3",
   "language": "python",
   "name": "python3"
  },
  "language_info": {
   "codemirror_mode": {
    "name": "ipython",
    "version": 3
   },
   "file_extension": ".py",
   "mimetype": "text/x-python",
   "name": "python",
   "nbconvert_exporter": "python",
   "pygments_lexer": "ipython3",
   "version": "3.6.9"
  }
 },
 "nbformat": 4,
 "nbformat_minor": 5
}
